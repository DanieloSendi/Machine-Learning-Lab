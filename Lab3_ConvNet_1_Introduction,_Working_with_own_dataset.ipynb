{
  "cells": [
    {
      "cell_type": "markdown",
      "metadata": {
        "id": "view-in-github",
        "colab_type": "text"
      },
      "source": [
        "<a href=\"https://colab.research.google.com/github/DanieloSendi/MachineLearning/blob/main/Lab3_ConvNet_1_Introduction%2C_Working_with_own_dataset.ipynb\" target=\"_parent\"><img src=\"https://colab.research.google.com/assets/colab-badge.svg\" alt=\"Open In Colab\"/></a>"
      ]
    },
    {
      "cell_type": "markdown",
      "metadata": {
        "id": "D75ebfH_NpAz"
      },
      "source": [
        "# **ConvNet 1 - Introduction, Working with own dataset**"
      ]
    },
    {
      "cell_type": "markdown",
      "metadata": {
        "id": "cGUPzlrrN2CS"
      },
      "source": [
        "## Part 1 Let's start with Convnet - Mnist dataset\n",
        "\n",
        "We will use Convnet layers to classify MNIST digits, a task that you have analysed using a densely-connected network (test accuracy was 97.8%)."
      ]
    },
    {
      "cell_type": "markdown",
      "metadata": {
        "id": "gIzXAlmeOT5N"
      },
      "source": [
        "### Dataset\n",
        "\n",
        "Please reuse the code from the second exercise, which has already covered the MNIST database.\n",
        "Change the shape of the training testing images to tensor (60000, 28, 28, 1) and (10000, 28, 28, 1))."
      ]
    },
    {
      "cell_type": "code",
      "execution_count": null,
      "metadata": {
        "colab": {
          "base_uri": "https://localhost:8080/"
        },
        "id": "ABvB885YNlUv",
        "outputId": "5c8f0f43-1d08-4c41-85c0-3359796f44a1"
      },
      "outputs": [
        {
          "output_type": "stream",
          "name": "stdout",
          "text": [
            "Downloading data from https://storage.googleapis.com/tensorflow/tf-keras-datasets/mnist.npz\n",
            "11490434/11490434 [==============================] - 0s 0us/step\n",
            "(60000, 28, 28, 1)\n",
            "(60000, 10)\n"
          ]
        }
      ],
      "source": [
        "from tensorflow.keras.datasets import mnist\n",
        "from keras.utils import to_categorical\n",
        "import numpy as np\n",
        "\n",
        "(train_images, train_labels), (test_images, test_labels) = mnist.load_data()\n",
        "\n",
        "train_images = np.float32(np.reshape(train_images, (60000, 28, 28, 1)))/255\n",
        "test_images = np.float32(np.reshape(test_images, (10000, 28, 28, 1)))/255\n",
        "\n",
        "train_labels = to_categorical(train_labels)\n",
        "test_labels = to_categorical(test_labels)\n",
        "\n",
        "print(train_images.shape)\n",
        "print(train_labels.shape)"
      ]
    },
    {
      "cell_type": "markdown",
      "metadata": {
        "id": "bYQUURRlOtUA"
      },
      "source": [
        "### Convnet architecture\n",
        "A basic convnet architecture is a a stack of Conv2D and MaxPooling2D layers followed by the classification part.\n",
        "A convnet takes as input tensors of shape (image_height, image_width, image_channels) (not including the batch dimension). In our case, we will configure our convnet to process inputs of size (28, 28, 1), which is the format of MNIST images.\n",
        "\n",
        "- Pass the argument `input_shape=(28, 28, 1)` to our first layer\n",
        "- Number of channels is controlled by the first argument passed to each Conv2D layer (here 32 or 64).\n",
        "- The filters should have size 3×3.\n",
        "\n",
        "Implementation a ConvNet architecture consisting of 3 Conv2d layers with nb. of channels: 32→64→64. Between the Conv2d should be a MaxPolling2D layer with filter:size 2×2.\n",
        "Display the architecture:\n",
        "\n",
        "Layers:\n"
      ]
    },
    {
      "cell_type": "code",
      "execution_count": null,
      "metadata": {
        "colab": {
          "base_uri": "https://localhost:8080/"
        },
        "id": "ckLqYmHRPB0v",
        "outputId": "d2534cfc-c50c-4c7f-e6e6-585eb22ea4a2"
      },
      "outputs": [
        {
          "output_type": "stream",
          "name": "stdout",
          "text": [
            "Model: \"sequential\"\n",
            "_________________________________________________________________\n",
            " Layer (type)                Output Shape              Param #   \n",
            "=================================================================\n",
            " conv2d (Conv2D)             (None, 26, 26, 32)        320       \n",
            "                                                                 \n",
            " max_pooling2d (MaxPooling2  (None, 13, 13, 32)        0         \n",
            " D)                                                              \n",
            "                                                                 \n",
            " conv2d_1 (Conv2D)           (None, 11, 11, 64)        18496     \n",
            "                                                                 \n",
            " max_pooling2d_1 (MaxPoolin  (None, 5, 5, 64)          0         \n",
            " g2D)                                                            \n",
            "                                                                 \n",
            " conv2d_2 (Conv2D)           (None, 3, 3, 64)          36928     \n",
            "                                                                 \n",
            "=================================================================\n",
            "Total params: 55744 (217.75 KB)\n",
            "Trainable params: 55744 (217.75 KB)\n",
            "Non-trainable params: 0 (0.00 Byte)\n",
            "_________________________________________________________________\n"
          ]
        }
      ],
      "source": [
        "from tensorflow.keras import models\n",
        "from tensorflow.keras import layers\n",
        "\n",
        "model = models.Sequential()\n",
        "model.add(layers.Conv2D(32, (3, 3), activation='relu', input_shape=train_images[0].shape))\n",
        "model.add(layers.MaxPooling2D((2, 2)))\n",
        "model.add(layers.Conv2D(64, (3, 3), activation='relu', input_shape=train_images[0].shape))\n",
        "model.add(layers.MaxPooling2D((2, 2)))\n",
        "model.add(layers.Conv2D(64, (3, 3), activation='relu', input_shape=train_images[0].shape))\n",
        "\n",
        "model.summary()\n",
        "\n",
        "# model.add(layers.Conv2D(nb of filters, (filter size, filter size), activation='relu', input_shape=(image_height, image_width, image_channels)))\n",
        "# model.add(layers.MaxPooling2D((filter size, filter size)))"
      ]
    },
    {
      "cell_type": "markdown",
      "metadata": {
        "id": "tzx3UO_-Pkn0"
      },
      "source": [
        "The next step would be to feed our last output tensor (of shape (3, 3, 64)) into a densely-connected `classifier network`: a stack of Dense layers. These classifiers process vectors, which are 1D, whereas our current output is a 3D tensor. So first, we will have to flatten our 3D outputs to 1D, and then add a few Dense layers on top.\n",
        "\n",
        "Only the <ins>last layer</ins> changes the activation function to `softmax`.\n",
        "\n",
        "Model Summary:"
      ]
    },
    {
      "cell_type": "code",
      "execution_count": null,
      "metadata": {
        "colab": {
          "base_uri": "https://localhost:8080/"
        },
        "id": "eIWr_Y02Pp2o",
        "outputId": "3b3428ae-07b8-4fa6-dae8-3a8c49359188"
      },
      "outputs": [
        {
          "output_type": "stream",
          "name": "stdout",
          "text": [
            "Model: \"sequential\"\n",
            "_________________________________________________________________\n",
            " Layer (type)                Output Shape              Param #   \n",
            "=================================================================\n",
            " conv2d (Conv2D)             (None, 26, 26, 32)        320       \n",
            "                                                                 \n",
            " max_pooling2d (MaxPooling2  (None, 13, 13, 32)        0         \n",
            " D)                                                              \n",
            "                                                                 \n",
            " conv2d_1 (Conv2D)           (None, 11, 11, 64)        18496     \n",
            "                                                                 \n",
            " max_pooling2d_1 (MaxPoolin  (None, 5, 5, 64)          0         \n",
            " g2D)                                                            \n",
            "                                                                 \n",
            " conv2d_2 (Conv2D)           (None, 3, 3, 64)          36928     \n",
            "                                                                 \n",
            " flatten (Flatten)           (None, 576)               0         \n",
            "                                                                 \n",
            " dense (Dense)               (None, 64)                36928     \n",
            "                                                                 \n",
            " dense_1 (Dense)             (None, 10)                650       \n",
            "                                                                 \n",
            "=================================================================\n",
            "Total params: 93322 (364.54 KB)\n",
            "Trainable params: 93322 (364.54 KB)\n",
            "Non-trainable params: 0 (0.00 Byte)\n",
            "_________________________________________________________________\n"
          ]
        }
      ],
      "source": [
        "model.add(layers.Flatten())\n",
        "model.add(layers.Dense(64, activation='relu'))\n",
        "model.add(layers.Dense(10, activation='softmax'))\n",
        "\n",
        "model.summary()\n",
        "\n",
        "# model.add(layers.Flatten())\n",
        "# model.add(layers.Dense(nb. of channels -output of last Conv2d, activation='Function'))\n",
        "# model.add(layers.Dense(nb. of classes, activation='Function'))"
      ]
    },
    {
      "cell_type": "markdown",
      "metadata": {
        "id": "G21vjgYeQPox"
      },
      "source": [
        "### Training and evaluation\n",
        "Since we are facing a multi-class classification problem the best loss function to use in this case is `categorical_crossentropy`. It measures the distance between two probability distributions: in our case, between the probability distribution output by our network, and the true distribution of the labels. By minimizing the distance between these two distributions, we train our network to output something as close as possible to the true labels.\n",
        "\n",
        "Parameters:\n",
        "- `rmsprop` optimizer\n",
        "- `categorical_crossentropy` loss function\n",
        "- `accuracy` metric\n",
        "\n",
        "Fit the model for 5 epochs and batch size 64.\n",
        "\n",
        "Verify your model on a test set. You should achieve test accuracy of about 0.99. Display the loss and accuracy curves on a plot."
      ]
    },
    {
      "cell_type": "code",
      "execution_count": null,
      "metadata": {
        "colab": {
          "base_uri": "https://localhost:8080/"
        },
        "id": "9Ka8wIOtQtCG",
        "outputId": "f258fd14-a403-4de2-b2d8-0c7576029940"
      },
      "outputs": [
        {
          "output_type": "stream",
          "name": "stdout",
          "text": [
            "Epoch 1/5\n",
            "938/938 [==============================] - 63s 64ms/step - loss: 0.1686 - accuracy: 0.9474 - val_loss: 0.0623 - val_accuracy: 0.9786\n",
            "Epoch 2/5\n",
            "938/938 [==============================] - 55s 59ms/step - loss: 0.0457 - accuracy: 0.9857 - val_loss: 0.0443 - val_accuracy: 0.9865\n",
            "Epoch 3/5\n",
            "938/938 [==============================] - 53s 57ms/step - loss: 0.0328 - accuracy: 0.9896 - val_loss: 0.0312 - val_accuracy: 0.9902\n",
            "Epoch 4/5\n",
            "938/938 [==============================] - 53s 57ms/step - loss: 0.0236 - accuracy: 0.9926 - val_loss: 0.0260 - val_accuracy: 0.9919\n",
            "Epoch 5/5\n",
            "938/938 [==============================] - 56s 59ms/step - loss: 0.0187 - accuracy: 0.9942 - val_loss: 0.0245 - val_accuracy: 0.9926\n"
          ]
        }
      ],
      "source": [
        "model.compile(optimizer='rmsprop',\n",
        "              loss='categorical_crossentropy',\n",
        "              metrics=['accuracy'])\n",
        "\n",
        "# # Display the architecture\n",
        "# model.summary()\n",
        "\n",
        "history = model.fit(train_images, train_labels,\n",
        "                    batch_size=64,\n",
        "                    epochs=5,\n",
        "                    validation_data=(test_images, test_labels))"
      ]
    },
    {
      "cell_type": "code",
      "execution_count": null,
      "metadata": {
        "id": "yy1LPme6OZEm",
        "colab": {
          "base_uri": "https://localhost:8080/"
        },
        "outputId": "6aae7cd2-a5e6-43fd-96d0-161808bb64ba"
      },
      "outputs": [
        {
          "output_type": "stream",
          "name": "stdout",
          "text": [
            "313/313 [==============================] - 4s 12ms/step - loss: 0.0245 - accuracy: 0.9926\n",
            "test_acc: 0.9926000237464905\n"
          ]
        }
      ],
      "source": [
        "test_loss, test_acc = model.evaluate(test_images, test_labels)\n",
        "\n",
        "print('test_acc:', test_acc)"
      ]
    },
    {
      "cell_type": "code",
      "source": [
        "history_dict = history.history\n",
        "history_dict.keys()"
      ],
      "metadata": {
        "id": "kYUINDMNIhcv",
        "colab": {
          "base_uri": "https://localhost:8080/"
        },
        "outputId": "df0bf5ab-9762-47d1-b3be-73709a253ae7"
      },
      "execution_count": null,
      "outputs": [
        {
          "output_type": "execute_result",
          "data": {
            "text/plain": [
              "dict_keys(['loss', 'accuracy', 'val_loss', 'val_accuracy'])"
            ]
          },
          "metadata": {},
          "execution_count": 6
        }
      ]
    },
    {
      "cell_type": "code",
      "execution_count": null,
      "metadata": {
        "id": "slyMoltrCgQq",
        "colab": {
          "base_uri": "https://localhost:8080/",
          "height": 403
        },
        "outputId": "aab4fbea-94cd-424c-8790-c63c034439a3"
      },
      "outputs": [
        {
          "output_type": "display_data",
          "data": {
            "text/plain": [
              "<Figure size 1200x400 with 2 Axes>"
            ],
            "image/png": "[encoded data removed]"
          },
          "metadata": {}
        }
      ],
      "source": [
        "import matplotlib.pyplot as plt\n",
        "\n",
        "# Get the training history dictionary\n",
        "history_dict = history_dict\n",
        "\n",
        "# Extract training and validation loss and accuracy\n",
        "training_loss = history_dict['loss']\n",
        "validation_loss = history_dict['val_loss']\n",
        "training_accuracy = history_dict['accuracy']\n",
        "validation_accuracy = history_dict['val_accuracy']\n",
        "\n",
        "# Create subplots\n",
        "plt.figure(figsize=(12, 4))\n",
        "\n",
        "# Plot training and validation loss\n",
        "plt.subplot(1, 2, 1)\n",
        "plt.plot(range(1, len(training_loss) + 1), training_loss, 'r-', label='Training Loss')\n",
        "plt.plot(range(1, len(validation_loss) + 1), validation_loss, 'b-', label='Validation Loss')\n",
        "plt.title('Training and Validation Loss')\n",
        "plt.xlabel('Epochs')\n",
        "plt.ylabel('Loss')\n",
        "plt.legend()\n",
        "\n",
        "# Plot training and validation accuracy\n",
        "plt.subplot(1, 2, 2)\n",
        "plt.plot(range(1, len(training_accuracy) + 1), training_accuracy, 'r-', label='Training Accuracy')\n",
        "plt.plot(range(1, len(validation_accuracy) + 1), validation_accuracy, 'b-', label='Validation Accuracy')\n",
        "plt.title('Training and Validation Accuracy')\n",
        "plt.xlabel('Epochs')\n",
        "plt.ylabel('Accuracy')\n",
        "plt.legend()\n",
        "\n",
        "# Show the plots\n",
        "plt.tight_layout()\n",
        "plt.show()\n"
      ]
    },
    {
      "cell_type": "markdown",
      "metadata": {
        "id": "jnnSAufCQ2Po"
      },
      "source": [
        "## Part 2 ConvNet for small dataset\n",
        "\n",
        "Having to train an image classification model using very little data is a common situation, which you’ll likely encounter in practice if you ever do computer vision in a professional context. A “few” samples can mean anywhere from a few hundred to a few tens of thousands of images. As a practical example, we’ll focus on classifying images as dogs or cats, in a dataset containing 4,000 pictures of cats and dogs (2,000 cats, 2,000 dogs). We’ll use 2,000 pictures for training – 1,000 for validation, and 1,000 for testing."
      ]
    },
    {
      "cell_type": "markdown",
      "metadata": {
        "id": "AR5y6eTPQ2by"
      },
      "source": [
        "### Dataset\n",
        "Download the original dataset at [kaggle](https://www.kaggle.com/c/dogs-vs-cats/data) (create a Kaggle account if you don't already have one).\n",
        "\n",
        "If you use Google Colab and don't want to download the whole dataset on your computer, you can link a Kaggle account with Colab. For further information see link below: https://www.kaggle.com/general/74235"
      ]
    },
    {
      "cell_type": "code",
      "execution_count": null,
      "metadata": {
        "id": "OlvFAz5WTe3O",
        "colab": {
          "base_uri": "https://localhost:8080/"
        },
        "outputId": "4fb51c74-e764-4ea6-9ce7-ea6cc56bb82b"
      },
      "outputs": [
        {
          "output_type": "stream",
          "name": "stdout",
          "text": [
            "Drive already mounted at /content/drive; to attempt to forcibly remount, call drive.mount(\"/content/drive\", force_remount=True).\n"
          ]
        }
      ],
      "source": [
        "! pip install -q kaggle\n",
        "import shutil\n",
        "import os\n",
        "# # Use below code to upload your kaggle.json to colab environment (you can download kaggle.json from your Profile->Account->API Token)\n",
        "# from google.colab import files\n",
        "# files.upload()\n",
        "\n",
        "from google.colab import drive\n",
        "drive.mount(\"/content/drive\")"
      ]
    },
    {
      "cell_type": "code",
      "execution_count": null,
      "metadata": {
        "id": "tDig2WOLVqOA"
      },
      "outputs": [],
      "source": [
        "# Create ~/.kaggle directory if it doesn't exist\n",
        "kaggle_dir = os.path.expanduser(\"~/.kaggle\")\n",
        "if not os.path.exists(kaggle_dir):\n",
        "    os.mkdir(kaggle_dir)\n",
        "\n",
        "# Copy kaggle.json from your Google Drive to the right location\n",
        "shutil.copy(\"/content/drive/MyDrive/Machine Learning/kaggle.json\", kaggle_dir)\n",
        "\n",
        "# Set the right permissions for the file\n",
        "!chmod 600 ~/.kaggle/kaggle.json\n"
      ]
    },
    {
      "cell_type": "code",
      "source": [
        "# Download the dataset\n",
        "!kaggle competitions download -c dogs-vs-cats -f train.zip\n",
        "\n",
        "# Unzip the dataset\n",
        "!unzip train.zip > /dev/null 2>&1"
      ],
      "metadata": {
        "id": "WCQPSrg4OECo",
        "colab": {
          "base_uri": "https://localhost:8080/"
        },
        "outputId": "5c66930e-753b-4a10-a8b9-9ea8039c632b"
      },
      "execution_count": null,
      "outputs": [
        {
          "output_type": "stream",
          "name": "stdout",
          "text": [
            "Downloading train.zip to /content\n",
            "100% 541M/543M [00:04<00:00, 171MB/s]\n",
            "100% 543M/543M [00:04<00:00, 133MB/s]\n"
          ]
        }
      ]
    },
    {
      "cell_type": "markdown",
      "source": [
        "This original dataset contains 25,000 images of dogs and cats (12,500 from each class) and is ~ 800MB large (compressed). After downloading and uncompressing it, we will create a new dataset containing three subsets: a training set with 1000 samples of each class, a validation set with 500 samples of each class, and finally a test set with 500 samples of each class.\n",
        "\n",
        "As we only need 4000 images, you do not need to download the whole dataset. You can download only train set (~500MB large) or copy the first 4000 images from someone else in the group.\n",
        "\n",
        "After downloading the data, you have to arrange them correctly in the catalogues. Data should be split into separate catalogs for dogs and for cats. You can do it manually or in python (for example using `os` and `shutil` libraries."
      ],
      "metadata": {
        "id": "Ab93rX3WRzaZ"
      }
    },
    {
      "cell_type": "code",
      "execution_count": null,
      "metadata": {
        "id": "BfeqwhwaRsuX"
      },
      "outputs": [],
      "source": [
        "import os\n",
        "import shutil\n",
        "\n",
        "# Create directories\n",
        "main_directory = \"data\"\n",
        "subsets = ['train', 'validation', 'test']\n",
        "classes = ['dog', 'cat']\n",
        "\n",
        "for subset in subsets:\n",
        "    for class_name in classes:\n",
        "        os.makedirs(os.path.join(main_directory, subset, class_name), exist_ok=True)\n",
        "\n",
        "# Move the images to corresponding directories\n",
        "src_directory = 'train'\n",
        "\n",
        "# Training data: 1000 samples of each class\n",
        "for i in range(1000):\n",
        "    shutil.move(os.path.join(src_directory, f'cat.{i}.jpg'), os.path.join(main_directory, 'train', 'cat'))\n",
        "    shutil.move(os.path.join(src_directory, f'dog.{i}.jpg'), os.path.join(main_directory, 'train', 'dog'))\n",
        "\n",
        "# Validation data: 500 samples of each class\n",
        "for i in range(1000, 1500):\n",
        "    shutil.move(os.path.join(src_directory, f'cat.{i}.jpg'), os.path.join(main_directory, 'validation', 'cat'))\n",
        "    shutil.move(os.path.join(src_directory, f'dog.{i}.jpg'), os.path.join(main_directory, 'validation', 'dog'))\n",
        "\n",
        "# Test data: 500 samples of each class\n",
        "for i in range(1500, 2000):\n",
        "    shutil.move(os.path.join(src_directory, f'cat.{i}.jpg'), os.path.join(main_directory, 'test', 'cat'))\n",
        "    shutil.move(os.path.join(src_directory, f'dog.{i}.jpg'), os.path.join(main_directory, 'test', 'dog'))\n"
      ]
    },
    {
      "cell_type": "markdown",
      "metadata": {
        "id": "gBjN5cE-RtLm"
      },
      "source": [
        "Please check the train/validation/test datasets. We now have 2000 training images, then 1000 validation images and 1000 test images (optional). In each split, there is the same number of samples from each class: this is a balanced binary classification problem, which means that classification accuracy will be an appropriate measure of success."
      ]
    },
    {
      "cell_type": "markdown",
      "metadata": {
        "id": "dGbGgxojR6FY"
      },
      "source": [
        "### Network architecture\n",
        "\n",
        "You've already built a small convnet for MNIST in the previous exercise. You will reuse the same general structure: our convnet will be a stack of alternated Conv2D (with relu activation) and MaxPooling2D layers.\n",
        "\n",
        "However, since we are dealing with bigger images and a more complex problem, we will make our network accordingly larger: it will have one more Conv2D + MaxPooling2D stage. This serves both to augment the capacity of the network and to further reduce the size of the feature maps so that they aren't overly large when we reach the Flatten layer. Here, since we start from inputs of size 150×150 (a somewhat arbitrary choice), we end up with feature maps of size 7×7 right before the Flatten layer. Note that the depth of the feature maps is progressively increasing in the network (from 32 to 128), while the size of the feature maps is decreasing (from 148×148 to 7×7). This is a pattern that you will see in almost all convnets. Since we are attacking a binary classification problem, we are ending the network with a single unit (a Dense layer of size 1) and a sigmoid activation. This unit will encode the probability that the network is looking at one class or the other.\n",
        "Please create your network architecture based on the information above (<ins>4x Conv2d, 4x Maxpooling layers and then Flatten, 2 x Dense layer</ins>)."
      ]
    },
    {
      "cell_type": "markdown",
      "metadata": {
        "id": "1ojo2m9bSJvb"
      },
      "source": [
        "Model summary should look like this:"
      ]
    },
    {
      "cell_type": "code",
      "execution_count": null,
      "metadata": {
        "id": "HIRpnuhnR41J",
        "colab": {
          "base_uri": "https://localhost:8080/"
        },
        "outputId": "e737e024-e3ed-4a50-eceb-bb13914de72a"
      },
      "outputs": [
        {
          "output_type": "stream",
          "name": "stdout",
          "text": [
            "Model: \"sequential_1\"\n",
            "_________________________________________________________________\n",
            " Layer (type)                Output Shape              Param #   \n",
            "=================================================================\n",
            " rescaling (Rescaling)       (None, 150, 150, 3)       0         \n",
            "                                                                 \n",
            " conv2d_3 (Conv2D)           (None, 148, 148, 32)      896       \n",
            "                                                                 \n",
            " max_pooling2d_2 (MaxPoolin  (None, 74, 74, 32)        0         \n",
            " g2D)                                                            \n",
            "                                                                 \n",
            " conv2d_4 (Conv2D)           (None, 72, 72, 64)        18496     \n",
            "                                                                 \n",
            " max_pooling2d_3 (MaxPoolin  (None, 36, 36, 64)        0         \n",
            " g2D)                                                            \n",
            "                                                                 \n",
            " conv2d_5 (Conv2D)           (None, 34, 34, 128)       73856     \n",
            "                                                                 \n",
            " max_pooling2d_4 (MaxPoolin  (None, 17, 17, 128)       0         \n",
            " g2D)                                                            \n",
            "                                                                 \n",
            " conv2d_6 (Conv2D)           (None, 15, 15, 128)       147584    \n",
            "                                                                 \n",
            " max_pooling2d_5 (MaxPoolin  (None, 7, 7, 128)         0         \n",
            " g2D)                                                            \n",
            "                                                                 \n",
            " flatten_1 (Flatten)         (None, 6272)              0         \n",
            "                                                                 \n",
            " dense_2 (Dense)             (None, 512)               3211776   \n",
            "                                                                 \n",
            " dense_3 (Dense)             (None, 1)                 513       \n",
            "                                                                 \n",
            "=================================================================\n",
            "Total params: 3453121 (13.17 MB)\n",
            "Trainable params: 3453121 (13.17 MB)\n",
            "Non-trainable params: 0 (0.00 Byte)\n",
            "_________________________________________________________________\n"
          ]
        }
      ],
      "source": [
        "#TODO: Configure the model to look at the following summary\n",
        "from tensorflow.keras import models\n",
        "from tensorflow.keras import layers\n",
        "\n",
        "model = models.Sequential()\n",
        "\n",
        "# Rescaling layer to scale the input data\n",
        "model.add(layers.Rescaling(1./255, input_shape=(150, 150, 3)))\n",
        "\n",
        "# 4 Convolutional layers with MaxPooling layers\n",
        "model.add(layers.Conv2D(32, (3, 3), activation='relu'))\n",
        "model.add(layers.MaxPooling2D((2, 2)))\n",
        "model.add(layers.Conv2D(64, (3, 3), activation='relu'))\n",
        "model.add(layers.MaxPooling2D((2, 2)))\n",
        "model.add(layers.Conv2D(128, (3, 3), activation='relu'))\n",
        "model.add(layers.MaxPooling2D((2, 2)))\n",
        "model.add(layers.Conv2D(128, (3, 3), activation='relu'))\n",
        "model.add(layers.MaxPooling2D((2, 2)))\n",
        "\n",
        "# Flatten layer\n",
        "model.add(layers.Flatten())\n",
        "\n",
        "# 2 Dense layers\n",
        "model.add(layers.Dense(512, activation='relu'))\n",
        "model.add(layers.Dense(1, activation='sigmoid'))\n",
        "\n",
        "# Print the model summary\n",
        "model.summary()"
      ]
    },
    {
      "cell_type": "markdown",
      "metadata": {
        "id": "med0kjt0SQWn"
      },
      "source": [
        "Compilation step:\n",
        "- RMSprop optimizer - with learning rate parameter(lr=1e-4)\n",
        "- Binary crossentropy loss funtion\n",
        "- Accuracy metric"
      ]
    },
    {
      "cell_type": "code",
      "execution_count": null,
      "metadata": {
        "id": "mlKEoAstSWb9"
      },
      "outputs": [],
      "source": [
        "#TODO: Compile the model\n",
        "model.compile(optimizer='rmsprop',\n",
        "              loss='binary_crossentropy',\n",
        "              metrics=['accuracy'])"
      ]
    },
    {
      "cell_type": "markdown",
      "metadata": {
        "id": "r_zVO-JHSXnQ"
      },
      "source": [
        "### Data preprocessing\n",
        "Data preprocessing steps include the following:\n",
        "\n",
        "- Read the picture files.\n",
        "- Decode the JPEG content to RBG grids of pixels.\n",
        "- Convert these into floating-point tensors.\n",
        "- Rescale the pixel values (between 0 and 255) to the [0, 1] interval (as you know, neural networks prefer to deal with small input values).\n",
        "\n",
        "It may seem a bit daunting, but thankfully Keras has utilities to take care of these steps automatically. It has a module with image processing helper tools, located at `tensorflow.keras.preprocessing`. In particular, it contains the class ImageDataGenerator (**In older version of tensorflow only. It is now replaced by** `image_dataset_from_directory`) which allows to quickly set up Python generators that can automatically turn image files on disk into batches of pre-processed tensors. This is what we will use here. One of the useful properties of ImageDataGenerator is the ability to automatically label data based on which folder they are in. That is why, at the beginning of the exercise, we put dogs and cats into the appropriate folders.\n",
        "\n",
        "`Be careful with polish characters when specifying paths to directories.`"
      ]
    },
    {
      "cell_type": "code",
      "execution_count": null,
      "metadata": {
        "id": "tCT6qjwISthQ",
        "colab": {
          "base_uri": "https://localhost:8080/"
        },
        "outputId": "56755206-8fc2-4453-8fb9-4b7ea16a4286"
      },
      "outputs": [
        {
          "output_type": "stream",
          "name": "stdout",
          "text": [
            "Found 2000 files belonging to 2 classes.\n",
            "Found 1000 files belonging to 2 classes.\n",
            "Found 1000 files belonging to 2 classes.\n"
          ]
        }
      ],
      "source": [
        "from tensorflow.keras.preprocessing import image_dataset_from_directory\n",
        "\n",
        "# Define paths to the train and validation directories\n",
        "train_dir = os.path.join(main_directory, 'train')\n",
        "validation_dir = os.path.join(main_directory, 'validation')\n",
        "\n",
        "# Define path to the test directory\n",
        "test_dir = os.path.join(main_directory, 'test')\n",
        "\n",
        "# For training dataset\n",
        "train_dataset = image_dataset_from_directory(\n",
        "    train_dir,\n",
        "    labels=\"inferred\",\n",
        "    label_mode=\"binary\",  # Since we use binary_crossentropy loss, we need binary labels\n",
        "    class_names=None,\n",
        "    color_mode=\"rgb\",\n",
        "    batch_size=20,\n",
        "    image_size=(150,150),  # All images will be resized to 150x150\n",
        "    shuffle=True,\n",
        ")\n",
        "\n",
        "# For validation dataset\n",
        "val_dataset = image_dataset_from_directory(\n",
        "    validation_dir,\n",
        "    labels=\"inferred\",\n",
        "    label_mode=\"binary\",\n",
        "    class_names=None,\n",
        "    color_mode=\"rgb\",\n",
        "    batch_size=20,\n",
        "    image_size=(150,150),\n",
        "    shuffle=True,\n",
        ")\n",
        "\n",
        "# For test dataset\n",
        "test_dataset = image_dataset_from_directory(\n",
        "    test_dir,\n",
        "    labels=\"inferred\",\n",
        "    label_mode=\"binary\",\n",
        "    class_names=None,\n",
        "    color_mode=\"rgb\",\n",
        "    batch_size=20,\n",
        "    image_size=(150,150),\n",
        "    shuffle=True,\n",
        ")\n"
      ]
    },
    {
      "cell_type": "markdown",
      "metadata": {
        "id": "gsepEi16SxTM"
      },
      "source": [
        "Let's fit our model to the dataset. We may pass a validation_data argument."
      ]
    },
    {
      "cell_type": "code",
      "execution_count": null,
      "metadata": {
        "id": "sSL91463S1rI",
        "colab": {
          "base_uri": "https://localhost:8080/"
        },
        "outputId": "feb26e8f-cb9e-43cb-e46d-be08c1ead238"
      },
      "outputs": [
        {
          "output_type": "stream",
          "name": "stdout",
          "text": [
            "Epoch 1/30\n",
            "100/100 [==============================] - 124s 1s/step - loss: 0.7219 - accuracy: 0.5250 - val_loss: 0.6917 - val_accuracy: 0.5010\n",
            "Epoch 2/30\n",
            "100/100 [==============================] - 117s 1s/step - loss: 0.6915 - accuracy: 0.5570 - val_loss: 0.7354 - val_accuracy: 0.5010\n",
            "Epoch 3/30\n",
            "100/100 [==============================] - 117s 1s/step - loss: 0.6586 - accuracy: 0.6290 - val_loss: 0.6413 - val_accuracy: 0.6170\n",
            "Epoch 4/30\n",
            "100/100 [==============================] - 110s 1s/step - loss: 0.5943 - accuracy: 0.6845 - val_loss: 0.5941 - val_accuracy: 0.6920\n",
            "Epoch 5/30\n",
            "100/100 [==============================] - 115s 1s/step - loss: 0.5485 - accuracy: 0.7205 - val_loss: 0.6116 - val_accuracy: 0.6780\n",
            "Epoch 6/30\n",
            "100/100 [==============================] - 120s 1s/step - loss: 0.4993 - accuracy: 0.7615 - val_loss: 0.6013 - val_accuracy: 0.7100\n",
            "Epoch 7/30\n",
            "100/100 [==============================] - 113s 1s/step - loss: 0.4513 - accuracy: 0.7825 - val_loss: 0.6529 - val_accuracy: 0.7190\n",
            "Epoch 8/30\n",
            "100/100 [==============================] - 116s 1s/step - loss: 0.3985 - accuracy: 0.8195 - val_loss: 0.6026 - val_accuracy: 0.7270\n",
            "Epoch 9/30\n",
            "100/100 [==============================] - 115s 1s/step - loss: 0.3338 - accuracy: 0.8585 - val_loss: 0.6684 - val_accuracy: 0.7250\n",
            "Epoch 10/30\n",
            "100/100 [==============================] - 117s 1s/step - loss: 0.2680 - accuracy: 0.8840 - val_loss: 0.7183 - val_accuracy: 0.7290\n",
            "Epoch 11/30\n",
            "100/100 [==============================] - 124s 1s/step - loss: 0.2047 - accuracy: 0.9140 - val_loss: 0.9385 - val_accuracy: 0.7230\n",
            "Epoch 12/30\n",
            "100/100 [==============================] - 116s 1s/step - loss: 0.1482 - accuracy: 0.9370 - val_loss: 1.0868 - val_accuracy: 0.7310\n",
            "Epoch 13/30\n",
            "100/100 [==============================] - 117s 1s/step - loss: 0.1107 - accuracy: 0.9640 - val_loss: 1.3196 - val_accuracy: 0.7390\n",
            "Epoch 14/30\n",
            "100/100 [==============================] - 112s 1s/step - loss: 0.0820 - accuracy: 0.9675 - val_loss: 1.3089 - val_accuracy: 0.7340\n",
            "Epoch 15/30\n",
            "100/100 [==============================] - 120s 1s/step - loss: 0.0520 - accuracy: 0.9850 - val_loss: 1.7872 - val_accuracy: 0.7270\n",
            "Epoch 16/30\n",
            "100/100 [==============================] - 117s 1s/step - loss: 0.0612 - accuracy: 0.9810 - val_loss: 2.1539 - val_accuracy: 0.7120\n",
            "Epoch 17/30\n",
            "100/100 [==============================] - 118s 1s/step - loss: 0.0613 - accuracy: 0.9810 - val_loss: 1.5297 - val_accuracy: 0.7160\n",
            "Epoch 18/30\n",
            "100/100 [==============================] - 118s 1s/step - loss: 0.0485 - accuracy: 0.9895 - val_loss: 2.3308 - val_accuracy: 0.7100\n",
            "Epoch 19/30\n",
            "100/100 [==============================] - 118s 1s/step - loss: 0.0338 - accuracy: 0.9865 - val_loss: 2.4937 - val_accuracy: 0.7210\n",
            "Epoch 20/30\n",
            "100/100 [==============================] - 117s 1s/step - loss: 0.0547 - accuracy: 0.9855 - val_loss: 2.3182 - val_accuracy: 0.7020\n",
            "Epoch 21/30\n",
            "100/100 [==============================] - 117s 1s/step - loss: 0.0655 - accuracy: 0.9840 - val_loss: 2.2037 - val_accuracy: 0.7150\n",
            "Epoch 22/30\n",
            "100/100 [==============================] - 116s 1s/step - loss: 0.0393 - accuracy: 0.9875 - val_loss: 2.9934 - val_accuracy: 0.7180\n",
            "Epoch 23/30\n",
            "100/100 [==============================] - 118s 1s/step - loss: 0.0574 - accuracy: 0.9845 - val_loss: 2.7554 - val_accuracy: 0.7120\n",
            "Epoch 24/30\n",
            "100/100 [==============================] - 118s 1s/step - loss: 0.0173 - accuracy: 0.9945 - val_loss: 2.8803 - val_accuracy: 0.7210\n",
            "Epoch 25/30\n",
            "100/100 [==============================] - 118s 1s/step - loss: 0.0300 - accuracy: 0.9930 - val_loss: 3.7246 - val_accuracy: 0.6930\n",
            "Epoch 26/30\n",
            "100/100 [==============================] - 117s 1s/step - loss: 0.0215 - accuracy: 0.9910 - val_loss: 3.8551 - val_accuracy: 0.6960\n",
            "Epoch 27/30\n",
            "100/100 [==============================] - 117s 1s/step - loss: 0.0281 - accuracy: 0.9920 - val_loss: 3.4619 - val_accuracy: 0.7050\n",
            "Epoch 28/30\n",
            "100/100 [==============================] - 117s 1s/step - loss: 0.0191 - accuracy: 0.9960 - val_loss: 3.7379 - val_accuracy: 0.7180\n",
            "Epoch 29/30\n",
            "100/100 [==============================] - 117s 1s/step - loss: 0.0373 - accuracy: 0.9915 - val_loss: 3.2021 - val_accuracy: 0.7200\n",
            "Epoch 30/30\n",
            "100/100 [==============================] - 117s 1s/step - loss: 0.0303 - accuracy: 0.9925 - val_loss: 3.4430 - val_accuracy: 0.6940\n"
          ]
        }
      ],
      "source": [
        "history = model.fit(train_dataset, epochs=30, validation_data=val_dataset)"
      ]
    },
    {
      "cell_type": "code",
      "source": [
        "history_dict = history.history\n",
        "history_dict.keys()"
      ],
      "metadata": {
        "id": "SwpH5yFIoEv3",
        "colab": {
          "base_uri": "https://localhost:8080/"
        },
        "outputId": "f96b91c9-35b1-4281-ab6d-7500d4f7dca9"
      },
      "execution_count": null,
      "outputs": [
        {
          "output_type": "execute_result",
          "data": {
            "text/plain": [
              "dict_keys(['loss', 'accuracy', 'val_loss', 'val_accuracy'])"
            ]
          },
          "metadata": {},
          "execution_count": 16
        }
      ]
    },
    {
      "cell_type": "code",
      "source": [
        "# Evaluate the model on the test data\n",
        "test_loss, test_acc = model.evaluate(test_dataset)\n",
        "\n",
        "print(f'Test Loss: {test_loss:.4f}')\n",
        "print(f'Test Accuracy: {test_acc:.4f}')"
      ],
      "metadata": {
        "id": "XIi-cvvxT9RI",
        "colab": {
          "base_uri": "https://localhost:8080/"
        },
        "outputId": "e3ebdd71-4945-4b54-9d22-5b4492507ebb"
      },
      "execution_count": null,
      "outputs": [
        {
          "output_type": "stream",
          "name": "stdout",
          "text": [
            "50/50 [==============================] - 14s 270ms/step - loss: 3.4556 - accuracy: 0.6940\n",
            "Test Loss: 3.4556\n",
            "Test Accuracy: 0.6940\n"
          ]
        }
      ]
    },
    {
      "cell_type": "markdown",
      "metadata": {
        "id": "dGgGCn-TS4qH"
      },
      "source": [
        "### Outcome analysis\n",
        "\n",
        "Plot the loss and accuracy of the model over the training and validation data during training."
      ]
    },
    {
      "cell_type": "code",
      "execution_count": null,
      "metadata": {
        "id": "NRaGyKHES8Sf",
        "colab": {
          "base_uri": "https://localhost:8080/",
          "height": 403
        },
        "outputId": "1a97d3fb-ec76-47ea-8acf-e7a55347c0e1"
      },
      "outputs": [
        {
          "output_type": "display_data",
          "data": {
            "text/plain": [
              "<Figure size 1200x400 with 2 Axes>"
            ],
            "image/png": "[encoded data removed]"
          },
          "metadata": {}
        }
      ],
      "source": [
        "# Extract values from the training history\n",
        "history_dict = history.history\n",
        "training_loss = history_dict['loss']\n",
        "validation_loss = history_dict['val_loss']\n",
        "training_accuracy = history_dict['accuracy']\n",
        "validation_accuracy = history_dict['val_accuracy']\n",
        "\n",
        "# Setup the subplots for loss and accuracy\n",
        "plt.figure(figsize=(12, 4))\n",
        "\n",
        "# Plot training and validation loss\n",
        "plt.subplot(1, 2, 1)\n",
        "plt.plot(range(1, len(training_loss) + 1), training_loss, 'r-', label='Training Loss')\n",
        "plt.plot(range(1, len(validation_loss) + 1), validation_loss, 'b-', label='Validation Loss')\n",
        "plt.title('Training and Validation Loss')\n",
        "plt.xlabel('Epochs')\n",
        "plt.ylabel('Loss')\n",
        "plt.legend()\n",
        "\n",
        "# Plot training and validation accuracy\n",
        "plt.subplot(1, 2, 2)\n",
        "plt.plot(range(1, len(training_accuracy) + 1), training_accuracy, 'r-', label='Training Accuracy')\n",
        "plt.plot(range(1, len(validation_accuracy) + 1), validation_accuracy, 'b-', label='Validation Accuracy')\n",
        "plt.title('Training and Validation Accuracy')\n",
        "plt.xlabel('Epochs')\n",
        "plt.ylabel('Accuracy')\n",
        "plt.legend()\n",
        "\n",
        "# Adjust layout and display the plots\n",
        "plt.tight_layout()\n",
        "plt.show()\n"
      ]
    },
    {
      "cell_type": "markdown",
      "metadata": {
        "id": "JnkI2DJ8S_IX"
      },
      "source": [
        "In these plots, you should see that the model is overfitting. Our training accuracy increases linearly over time, until it reaches nearly 100%, while our validation accuracy stalls at 70-72%. Our validation loss reaches its minimum after only five epochs then stalls, while the training loss keeps decreasing linearly until it reaches nearly 0.\n",
        "\n",
        "Because we only have relatively few training samples (2000), overfitting is going to be our number one concern. There are many techniques that can help mitigate overfitting, such as reducing the number of epochs, adding dropout layers dropout, or weight decay (L2 regularization). We will look at them next weeks."
      ]
    }
  ],
  "metadata": {
    "accelerator": "GPU",
    "colab": {
      "provenance": [],
      "gpuType": "T4",
      "mount_file_id": "1xc4Fnvnp6CxrQVzCG4dUUv7uHsxuwkuD",
      "authorship_tag": "ABX9TyNCuZVegrA3Z1QKLjhbZOfp",
      "include_colab_link": true
    },
    "kernelspec": {
      "display_name": "Python 3",
      "name": "python3"
    },
    "language_info": {
      "name": "python"
    }
  },
  "nbformat": 4,
  "nbformat_minor": 0
}